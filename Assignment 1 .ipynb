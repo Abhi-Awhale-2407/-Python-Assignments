{
 "cells": [
  {
   "cell_type": "markdown",
   "id": "897a4371",
   "metadata": {},
   "source": [
    "# Q1: 1. In the below elements which of them are values or an expression? eg:- values can beinteger or string and expressions will be mathematical operators.\n",
    "\n",
    "*\n",
    "&#39;hello&#39;\n",
    "-87.8\n",
    "-\n",
    "/\n",
    "+\n",
    "6"
   ]
  },
  {
   "cell_type": "markdown",
   "id": "2eee9560",
   "metadata": {},
   "source": [
    "# Answer:\n",
    "\n",
    "Values:\n",
    "'hello'\n",
    "-87.8\n",
    "6\n",
    "\n",
    "Expressions:\n",
    "*\n",
    "-\n",
    "/\n",
    "+\n"
   ]
  },
  {
   "cell_type": "markdown",
   "id": "67fe926b",
   "metadata": {},
   "source": [
    "# Q2. What is the difference between string and variable?\n",
    "\n",
    "# Answer:\n",
    "\n",
    "String:\n",
    "string is a Datatype in python which is collection of words which is enclosed in single quotes or double quotes it just a simple statement or word . <br>\n",
    "<br>\n",
    "Variable:\n",
    "variable is the empty storage container which can store value of any datatype. it is the temporary storage location which is use to store or represent the particular element.<br>\n",
    "<br>\n",
    "for ex:<br>\n",
    "<br>\n",
    "x = \"abhi\"<br>\n",
    "Here, X is the variable which represents or store the value of string which is \"abhi\"\n",
    "\n"
   ]
  },
  {
   "cell_type": "markdown",
   "id": "dfc794c9",
   "metadata": {},
   "source": [
    "# 3.Describe three different data types.\n",
    "\n",
    "# Answer:\n",
    "\n",
    "Three different datatypes are :<br>\n",
    "\n",
    "1. Int: Integer data type represent the real numbers that do not have any fractional values. for ex: 1 ,2, 5 ,888\n",
    "\n",
    "2. Str: Str represents the string datatype which is collection of the Alphabets and words or any characters enclosed in \"\" or '' . for ex: \"abhi\", \"ineuron1\"\n",
    "\n",
    "3. list: list is the datatype in python which is ordered sequence of elements which can be of any datatype.List is mutable datatype which means list elements can be changed after creation of list. it is enclosed in []\n",
    "\n",
    "4. tuple: tuple is data type in python which acts as same as list but only difference is it is immutable which means that after creation of tuple values in tuple cannot be modified. it is enclosed in ()."
   ]
  },
  {
   "cell_type": "markdown",
   "id": "a6eebca3",
   "metadata": {},
   "source": [
    "# Q4. What is an expression made up of? What do all expressions do?\n",
    "\n",
    "# Answer:\n",
    "\n",
    "Expression is made up of variable, operators and operands.\n",
    "Expression compute and assign values to the variables and help to control the flow of program\n",
    "\n"
   ]
  },
  {
   "cell_type": "markdown",
   "id": "19faff80",
   "metadata": {},
   "source": [
    "# 5. This assignment statements, like spam = 10. What is the difference between an expression and a statement?\n",
    "\n",
    "# Answer:\n",
    "Statement just assign the value to the variable and has no part of computation.<br>\n",
    "for eg: x = 2<br>\n",
    "here just the statement assigns value of 2 to the x variable.<br>\n",
    "Whereas the expression computes the value assigned by operator and assigns it to the variable.<br>\n",
    "for ex: x*5 <br>\n",
    "here the operators compute X into 5 times and yeilds some output.\n"
   ]
  },
  {
   "cell_type": "markdown",
   "id": "d442465d",
   "metadata": {},
   "source": [
    "# 6. After running the following code, what does the variable bacon contain?\n",
    " bacon = 22<br>\n",
    " bacon + 1"
   ]
  },
  {
   "cell_type": "code",
   "execution_count": 1,
   "id": "630d1158",
   "metadata": {},
   "outputs": [],
   "source": [
    "bacon = 22"
   ]
  },
  {
   "cell_type": "code",
   "execution_count": 3,
   "id": "10815069",
   "metadata": {},
   "outputs": [
    {
     "data": {
      "text/plain": [
       "23"
      ]
     },
     "execution_count": 3,
     "metadata": {},
     "output_type": "execute_result"
    }
   ],
   "source": [
    "bacon+1"
   ]
  },
  {
   "cell_type": "markdown",
   "id": "9979f0ab",
   "metadata": {},
   "source": [
    "bacon+1"
   ]
  },
  {
   "cell_type": "markdown",
   "id": "1a8ca9f3",
   "metadata": {},
   "source": [
    "So now the variable bacon contains value of 23 because of increment operator "
   ]
  },
  {
   "cell_type": "markdown",
   "id": "70fe968c",
   "metadata": {},
   "source": [
    "# 7. What should the values of the following two terms be?\n"
   ]
  },
  {
   "cell_type": "code",
   "execution_count": 4,
   "id": "51029b98",
   "metadata": {},
   "outputs": [
    {
     "data": {
      "text/plain": [
       "'spamspamspam'"
      ]
     },
     "execution_count": 4,
     "metadata": {},
     "output_type": "execute_result"
    }
   ],
   "source": [
    "'spam'+'spamspam'"
   ]
  },
  {
   "cell_type": "code",
   "execution_count": 5,
   "id": "0fd5fc7e",
   "metadata": {},
   "outputs": [
    {
     "data": {
      "text/plain": [
       "'spamspamspam'"
      ]
     },
     "execution_count": 5,
     "metadata": {},
     "output_type": "execute_result"
    }
   ],
   "source": [
    "'spam'*3"
   ]
  },
  {
   "cell_type": "markdown",
   "id": "add8d736",
   "metadata": {},
   "source": [
    "# 8. Why is eggs a valid variable name while 100 is invalid?\n",
    "\n",
    "# Answer:"
   ]
  },
  {
   "cell_type": "markdown",
   "id": "5b16b5e5",
   "metadata": {},
   "source": [
    "Variable nams must always start with letters or underscore characters it cannot start with the numbers.\n",
    "it can only contain alphabets and numerical values with underscores. therefore egg is valid variable name but 100 is invalid"
   ]
  },
  {
   "cell_type": "markdown",
   "id": "d09aa002",
   "metadata": {},
   "source": [
    "# 9. What three functions can be used to get the integer, floating-point number, or string version of a value?\n",
    "\n",
    "# Answer:"
   ]
  },
  {
   "cell_type": "markdown",
   "id": "b8c83909",
   "metadata": {},
   "source": [
    "Three functions to get integer , floating point and string are :\n",
    "1. integer : int()\n",
    "2. floating point: float()\n",
    "3. string : str()"
   ]
  },
  {
   "cell_type": "markdown",
   "id": "9e4fcbbb",
   "metadata": {},
   "source": [
    "# 10. Why does this expression cause an error? How can you fix it?\n",
    "'I have eaten' + 99 +'burritos'\n",
    "\n",
    "# Answer:"
   ]
  },
  {
   "cell_type": "markdown",
   "id": "9f621223",
   "metadata": {},
   "source": [
    "The given expression causes an error because in python String value elements and Integer elements cannot be concatenated therefore it returns an error."
   ]
  },
  {
   "cell_type": "code",
   "execution_count": 7,
   "id": "818b4e99",
   "metadata": {},
   "outputs": [
    {
     "ename": "TypeError",
     "evalue": "can only concatenate str (not \"int\") to str",
     "output_type": "error",
     "traceback": [
      "\u001b[1;31m---------------------------------------------------------------------------\u001b[0m",
      "\u001b[1;31mTypeError\u001b[0m                                 Traceback (most recent call last)",
      "\u001b[1;32m<ipython-input-7-787a23c01f4d>\u001b[0m in \u001b[0;36m<module>\u001b[1;34m\u001b[0m\n\u001b[1;32m----> 1\u001b[1;33m \u001b[1;34m'i have eaten'\u001b[0m\u001b[1;33m+\u001b[0m\u001b[1;36m99\u001b[0m\u001b[1;33m+\u001b[0m\u001b[1;34m'burritos'\u001b[0m\u001b[1;33m\u001b[0m\u001b[1;33m\u001b[0m\u001b[0m\n\u001b[0m",
      "\u001b[1;31mTypeError\u001b[0m: can only concatenate str (not \"int\") to str"
     ]
    }
   ],
   "source": [
    "'i have eaten'+99+'burritos'"
   ]
  },
  {
   "cell_type": "markdown",
   "id": "598968d8",
   "metadata": {},
   "source": [
    " To fix this error we need to convert int elements to string using str() function.\n",
    " "
   ]
  },
  {
   "cell_type": "code",
   "execution_count": 13,
   "id": "0f919440",
   "metadata": {},
   "outputs": [
    {
     "data": {
      "text/plain": [
       "'i have eaten 99 burritos'"
      ]
     },
     "execution_count": 13,
     "metadata": {},
     "output_type": "execute_result"
    }
   ],
   "source": [
    "'i have eaten '+ str(99) +' burritos'"
   ]
  },
  {
   "cell_type": "code",
   "execution_count": null,
   "id": "6ab1e8c4",
   "metadata": {},
   "outputs": [],
   "source": []
  }
 ],
 "metadata": {
  "kernelspec": {
   "display_name": "Python 3",
   "language": "python",
   "name": "python3"
  },
  "language_info": {
   "codemirror_mode": {
    "name": "ipython",
    "version": 3
   },
   "file_extension": ".py",
   "mimetype": "text/x-python",
   "name": "python",
   "nbconvert_exporter": "python",
   "pygments_lexer": "ipython3",
   "version": "3.8.8"
  }
 },
 "nbformat": 4,
 "nbformat_minor": 5
}
